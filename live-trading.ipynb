{
 "cells": [
  {
   "cell_type": "code",
   "execution_count": 8,
   "metadata": {
    "collapsed": false
   },
   "outputs": [],
   "source": [
    "import oandapyV20\n",
    "from oandapyV20 import API\n",
    "import oandapyV20.endpoints.pricing as pricing\n",
    "from datetime import datetime\n",
    "import pandas as pd\n",
    "\n",
    "\n",
    "class ForexSystem:\n",
    "    def __init__(self, *args, **kwargs):\n",
    "        self.api = API(access_token=kwargs[\"access_token\"])\n",
    "        self.instrument = None\n",
    "        self.account_id = None\n",
    "        self.qty = 0\n",
    "        self.resample_interval = '10s'\n",
    "        self.mean_period_short = 5\n",
    "        self.mean_period_long = 20\n",
    "        self.buy_threshold = 1.0\n",
    "        self.sell_threshold = 1.0\n",
    "\n",
    "        self.prices = pd.DataFrame()\n",
    "        self.beta = 0\n",
    "        self.is_position_opened = False\n",
    "        self.opening_price = 0\n",
    "        self.executed_price = 0\n",
    "        self.unrealized_pnl = 0\n",
    "        self.realized_pnl = 0\n",
    "        self.position = 0\n",
    "        self.dt_format = \"%Y-%m-%dT%H:%M:%S.%fZ\"\n",
    "        \n",
    "    def begin(self, **params):\n",
    "        self.instrument = params[\"instruments\"]\n",
    "        self.account_id = params[\"accountId\"]\n",
    "        self.qty = params[\"qty\"]\n",
    "        self.resample_interval = params[\"resample_interval\"]\n",
    "        self.mean_period_short = params[\"mean_period_short\"]\n",
    "        self.mean_period_long = params[\"mean_period_long\"]\n",
    "        self.buy_threshold = params[\"buy_threshold\"]\n",
    "        self.sell_threshold = params[\"sell_threshold\"]\n",
    "\n",
    "        self.start(**params)  # Start streaming prices\n",
    "        \n",
    "    def on_success(self, data):\n",
    "        time, symbol, bid, ask = self.parse_tick_data(\n",
    "            data)\n",
    "        self.tick_event(time, symbol, bid, ask) \n",
    "    \n",
    "    def tick_event(self, time, symbol, bid, ask):\n",
    "        midprice = (ask+bid)/2.\n",
    "        self.prices.loc[time, symbol] = midprice\n",
    "\n",
    "        resampled_prices = self.prices.resample(\n",
    "            self.resample_interval,\n",
    "            how='last',\n",
    "            fill_method=\"ffill\")\n",
    "\n",
    "        mean_short = resampled_prices.tail(\n",
    "            self.mean_period_short).mean()[0]\n",
    "        mean_long = resampled_prices.tail(\n",
    "            self.mean_period_long).mean()[0]\n",
    "        self.beta = mean_short / mean_long\n",
    "\n",
    "        self.perform_trade_logic(self.beta)\n",
    "        self.calculate_unrealized_pnl(bid, ask)\n",
    "        self.print_status()\n",
    "        \n",
    "    def perform_trade_logic(self, beta):\n",
    "        if beta > self.buy_threshold:\n",
    "            if not self.is_position_opened \\\n",
    "                    or self.position < 0:\n",
    "                self.check_and_send_order(True)\n",
    "\n",
    "        elif beta < self.sell_threshold:\n",
    "            if not self.is_position_opened \\\n",
    "                    or self.position > 0:\n",
    "                self.check_and_send_order(False)\n",
    "    def print_status(self):\n",
    "        print (\"[%s] %s pos=%s beta=%s RPnL=%s UPnL=%s\" % (\n",
    "            datetime.now().time(),\n",
    "            self.instrument, \n",
    "            self.position, \n",
    "            round(self.beta, 5),\n",
    "            self.realized_pnl, \n",
    "            self.unrealized_pnl)\n",
    "               )\n",
    "    def start(self, **params):\n",
    "        r = pricing.PricingStream(self.accountID,params=params)\n",
    "        rv = self.api.request(r)\n",
    "        for tick in rv:\n",
    "            self.on_success(self, tick)"
   ]
  },
  {
   "cell_type": "code",
   "execution_count": 7,
   "metadata": {
    "collapsed": true
   },
   "outputs": [],
   "source": [
    "key = \"04e86c6b0c7bfe71bf7f98d2b1a6496d-dee13f6f97c4508b949c42deaf95925b\"\n",
    "account_id = \"101-001-6722193-001\"\n",
    "system = ForexSystem(environment=\"practice\", access_token=key)\n"
   ]
  },
  {
   "cell_type": "code",
   "execution_count": 9,
   "metadata": {
    "collapsed": false
   },
   "outputs": [
    {
     "ename": "AttributeError",
     "evalue": "'ForexSystem' object has no attribute 'accountID'",
     "output_type": "error",
     "traceback": [
      "\u001b[0;31m---------------------------------------------------------------------------\u001b[0m",
      "\u001b[0;31mAttributeError\u001b[0m                            Traceback (most recent call last)",
      "\u001b[0;32m<ipython-input-9-88f346c90b59>\u001b[0m in \u001b[0;36m<module>\u001b[0;34m()\u001b[0m\n\u001b[1;32m      9\u001b[0m              \u001b[0mmean_period_long\u001b[0m\u001b[1;33m=\u001b[0m\u001b[1;36m20\u001b[0m\u001b[1;33m,\u001b[0m\u001b[1;33m\u001b[0m\u001b[0m\n\u001b[1;32m     10\u001b[0m              \u001b[0mbuy_threshold\u001b[0m\u001b[1;33m=\u001b[0m\u001b[1;36m1.0\u001b[0m\u001b[1;33m,\u001b[0m\u001b[1;33m\u001b[0m\u001b[0m\n\u001b[0;32m---> 11\u001b[0;31m              sell_threshold=1.0) \n\u001b[0m",
      "\u001b[0;32m<ipython-input-8-edbee22cbcb1>\u001b[0m in \u001b[0;36mbegin\u001b[0;34m(self, **params)\u001b[0m\n\u001b[1;32m     38\u001b[0m         \u001b[0mself\u001b[0m\u001b[1;33m.\u001b[0m\u001b[0msell_threshold\u001b[0m \u001b[1;33m=\u001b[0m \u001b[0mparams\u001b[0m\u001b[1;33m[\u001b[0m\u001b[1;34m\"sell_threshold\"\u001b[0m\u001b[1;33m]\u001b[0m\u001b[1;33m\u001b[0m\u001b[0m\n\u001b[1;32m     39\u001b[0m \u001b[1;33m\u001b[0m\u001b[0m\n\u001b[0;32m---> 40\u001b[0;31m         \u001b[0mself\u001b[0m\u001b[1;33m.\u001b[0m\u001b[0mstart\u001b[0m\u001b[1;33m(\u001b[0m\u001b[1;33m**\u001b[0m\u001b[0mparams\u001b[0m\u001b[1;33m)\u001b[0m  \u001b[1;31m# Start streaming prices\u001b[0m\u001b[1;33m\u001b[0m\u001b[0m\n\u001b[0m\u001b[1;32m     41\u001b[0m \u001b[1;33m\u001b[0m\u001b[0m\n\u001b[1;32m     42\u001b[0m     \u001b[1;32mdef\u001b[0m \u001b[0mon_success\u001b[0m\u001b[1;33m(\u001b[0m\u001b[0mself\u001b[0m\u001b[1;33m,\u001b[0m \u001b[0mdata\u001b[0m\u001b[1;33m)\u001b[0m\u001b[1;33m:\u001b[0m\u001b[1;33m\u001b[0m\u001b[0m\n",
      "\u001b[0;32m<ipython-input-8-edbee22cbcb1>\u001b[0m in \u001b[0;36mstart\u001b[0;34m(self, **params)\u001b[0m\n\u001b[1;32m     82\u001b[0m                )\n\u001b[1;32m     83\u001b[0m     \u001b[1;32mdef\u001b[0m \u001b[0mstart\u001b[0m\u001b[1;33m(\u001b[0m\u001b[0mself\u001b[0m\u001b[1;33m,\u001b[0m \u001b[1;33m**\u001b[0m\u001b[0mparams\u001b[0m\u001b[1;33m)\u001b[0m\u001b[1;33m:\u001b[0m\u001b[1;33m\u001b[0m\u001b[0m\n\u001b[0;32m---> 84\u001b[0;31m         \u001b[0mr\u001b[0m \u001b[1;33m=\u001b[0m \u001b[0mpricing\u001b[0m\u001b[1;33m.\u001b[0m\u001b[0mPricingStream\u001b[0m\u001b[1;33m(\u001b[0m\u001b[0mself\u001b[0m\u001b[1;33m.\u001b[0m\u001b[0maccountID\u001b[0m\u001b[1;33m,\u001b[0m\u001b[0mparams\u001b[0m\u001b[1;33m=\u001b[0m\u001b[0mparams\u001b[0m\u001b[1;33m)\u001b[0m\u001b[1;33m\u001b[0m\u001b[0m\n\u001b[0m\u001b[1;32m     85\u001b[0m         \u001b[0mrv\u001b[0m \u001b[1;33m=\u001b[0m \u001b[0mself\u001b[0m\u001b[1;33m.\u001b[0m\u001b[0mapi\u001b[0m\u001b[1;33m.\u001b[0m\u001b[0mrequest\u001b[0m\u001b[1;33m(\u001b[0m\u001b[0mr\u001b[0m\u001b[1;33m)\u001b[0m\u001b[1;33m\u001b[0m\u001b[0m\n\u001b[1;32m     86\u001b[0m         \u001b[1;32mfor\u001b[0m \u001b[0mtick\u001b[0m \u001b[1;32min\u001b[0m \u001b[0mrv\u001b[0m\u001b[1;33m:\u001b[0m\u001b[1;33m\u001b[0m\u001b[0m\n",
      "\u001b[0;31mAttributeError\u001b[0m: 'ForexSystem' object has no attribute 'accountID'"
     ]
    }
   ],
   "source": [
    "key = \"04e86c6b0c7bfe71bf7f98d2b1a6496d-dee13f6f97c4508b949c42deaf95925b\"\n",
    "account_id = \"101-001-6722193-001\"\n",
    "system = ForexSystem(environment=\"practice\", access_token=key)\n",
    "system.begin(accountId=account_id,\n",
    "             instruments=\"EUR_USD\",\n",
    "             qty=1000,\n",
    "             resample_interval=\"10s\",\n",
    "             mean_period_short=5,\n",
    "             mean_period_long=20,\n",
    "             buy_threshold=1.0,\n",
    "             sell_threshold=1.0) "
   ]
  }
 ],
 "metadata": {
  "anaconda-cloud": {},
  "kernelspec": {
   "display_name": "Python [conda root]",
   "language": "python",
   "name": "conda-root-py"
  },
  "language_info": {
   "codemirror_mode": {
    "name": "ipython",
    "version": 3
   },
   "file_extension": ".py",
   "mimetype": "text/x-python",
   "name": "python",
   "nbconvert_exporter": "python",
   "pygments_lexer": "ipython3",
   "version": "3.5.2"
  }
 },
 "nbformat": 4,
 "nbformat_minor": 1
}
