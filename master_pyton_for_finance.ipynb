{
 "cells": [
  {
   "cell_type": "code",
   "execution_count": null,
   "metadata": {
    "collapsed": true
   },
   "outputs": [],
   "source": [
    "from scipy import stats\n",
    "\n",
    "stock_returns = [0.065, 0.0265, -0.0593, -0.001, 0.0346]\n",
    "mkt_returns = [0.055, -0.09, -0.041, 0.045, 0.022]\n",
    "\n",
    "beta, intercept, r_value, p_value, std_err = \\\n",
    "    stats.linregress(stock_returns, mkt_returns)"
   ]
  },
  {
   "cell_type": "code",
   "execution_count": null,
   "metadata": {
    "collapsed": false
   },
   "outputs": [],
   "source": [
    "print (beta,intercept)"
   ]
  },
  {
   "cell_type": "code",
   "execution_count": null,
   "metadata": {
    "collapsed": false,
    "scrolled": true
   },
   "outputs": [],
   "source": [
    "\"\"\" Least squares regression with statsmodels \"\"\"\n",
    "import numpy as np\n",
    "import statsmodels.api as sm\n",
    "\n",
    "# Generate some sample data\n",
    "num_periods = 9\n",
    "all_values = np.array([np.random.random(8)\n",
    "                       for i in range(num_periods)])\n",
    "#print(all_values)\n",
    "\n",
    "# Filter the data\n",
    "y_values = all_values[:, 0]  # First column values as Y\n",
    "x_values = all_values[:, 1:]  # All other values as X\n",
    "x_values = sm.add_constant(x_values)  # Include the intercept\n",
    "results = sm.OLS(y_values, x_values).fit()  # Regress and fit the model\n",
    "print(results.summary())"
   ]
  },
  {
   "cell_type": "code",
   "execution_count": null,
   "metadata": {
    "collapsed": false
   },
   "outputs": [],
   "source": [
    "\"\"\" A simple linear optimization problem with 2 variables \"\"\"\n",
    "import pulp\n",
    "\n",
    "x = pulp.LpVariable(\"x\", lowBound=0)\n",
    "y = pulp.LpVariable(\"y\", lowBound=0)\n",
    "\n",
    "problem = pulp.LpProblem(\"A simple maximization objective\",\n",
    "                         pulp.LpMaximize)\n",
    "problem += 3*x + 2*y, \"The objective function\"\n",
    "problem += 2*x + y <= 100, \"1st constraint\"\n",
    "problem += x + y <= 80, \"2nd constraint\"\n",
    "problem += x <= 40, \"3rd constraint\"\n",
    "problem.solve()"
   ]
  },
  {
   "cell_type": "code",
   "execution_count": null,
   "metadata": {
    "collapsed": false
   },
   "outputs": [],
   "source": [
    "for variable  in problem.variables():\n",
    "    print(variable.name,'=',variable.varValue)"
   ]
  },
  {
   "cell_type": "code",
   "execution_count": null,
   "metadata": {
    "collapsed": true
   },
   "outputs": [],
   "source": [
    "import pulp\n",
    "\n",
    "dealers = [\"X\", \"Y\", \"Z\"]\n",
    "variable_costs = {\"X\": 500,\n",
    "                  \"Y\": 350,\n",
    "                  \"Z\": 450}\n",
    "fixed_costs = {\"X\": 4000,\n",
    "               \"Y\": 2000,\n",
    "               \"Z\": 6000}\n",
    "\n",
    "# Define PuLP variables to solve\n",
    "quantities = pulp.LpVariable.dicts(\"quantity\", \n",
    "                                   dealers, \n",
    "                                   lowBound=0, \n",
    "                                   cat=pulp.LpInteger) \n",
    "is_orders = pulp.LpVariable.dicts(\"orders\", \n",
    "                                  dealers, \n",
    "                                  cat=pulp.LpBinary)"
   ]
  },
  {
   "cell_type": "code",
   "execution_count": null,
   "metadata": {
    "collapsed": false
   },
   "outputs": [],
   "source": [
    "\"\"\"\n",
    "This is an example of implementing an IP model\n",
    "with binary variables the correct way.\n",
    "\"\"\"\n",
    "# Initialize the model with constraints\n",
    "model = pulp.LpProblem(\"A cost minimization problem\",\n",
    "                       pulp.LpMinimize)\n",
    "model += sum([variable_costs[i]*quantities[i] +\n",
    "              fixed_costs[i]*is_orders[i] for i in dealers]), \\\n",
    "         \"Minimize portfolio cost\"\n",
    "model += sum([quantities[i] for i in dealers]) == 150, \\\n",
    "         \"Total contracts required\"\n",
    "model += is_orders[\"X\"]*30 <= quantities[\"X\"] <= \\\n",
    "         is_orders[\"X\"]*100, \"Boundary of total volume of X\"\n",
    "model += is_orders[\"Y\"]*30 <= quantities[\"Y\"] <= \\\n",
    "         is_orders[\"Y\"]*90, \"Boundary of total volume of Y\"\n",
    "model += is_orders[\"Z\"]*30 <= quantities[\"Z\"] <= \\\n",
    "         is_orders[\"Z\"]*70, \"Boundary of total volume of Z\"\n",
    "model.solve()\n",
    "\n",
    "for variable  in model.variables():\n",
    "    print(variable.name,'=',variable.varValue)"
   ]
  },
  {
   "cell_type": "code",
   "execution_count": null,
   "metadata": {
    "collapsed": false
   },
   "outputs": [],
   "source": [
    "\"\"\" Linear algebra with NumPy matrices \"\"\"\n",
    "import numpy as np\n",
    "\n",
    "A = np.array([[2, 1, 1],\n",
    "              [1, 3, 2],\n",
    "              [1, 0, 0]])\n",
    "B = np.array([4, 5, 6])\n",
    "\n",
    "print (np.linalg.solve(A, B ))"
   ]
  },
  {
   "cell_type": "code",
   "execution_count": null,
   "metadata": {
    "collapsed": false
   },
   "outputs": [],
   "source": [
    "\"\"\" LU decomposition with SciPy \"\"\"\n",
    "import scipy.linalg as linalg\n",
    "import numpy as np\n",
    "\n",
    "A = np.array([[2., 1., 1.],\n",
    "              [1., 3., 2.],\n",
    "              [1., 0., 0.]])\n",
    "B = np.array([4., 5., 6.])\n",
    "\n",
    "LU = linalg.lu_factor(A)\n",
    "P, L, U = linalg.lu(A)\n",
    "x = linalg.lu_solve(LU, B)\n",
    "print(P)\n",
    "print(L)\n",
    "print(U)\n",
    "print(x)"
   ]
  },
  {
   "cell_type": "code",
   "execution_count": null,
   "metadata": {
    "collapsed": false
   },
   "outputs": [],
   "source": [
    "\"\"\" Cholesky decomposition with NumPy \"\"\"\n",
    "import numpy as np\n",
    "\n",
    "A = np.array([[10., -1., 2., 0.],\n",
    "              [-1., 11., -1., 3.],\n",
    "              [2., -1., 10., -1.],\n",
    "              [0.0, 3., -1., 8.]])\n",
    "B = np.array([6., 25., -11., 15.])\n",
    "\n",
    "L = np.linalg.cholesky(A)\n",
    "print(L)"
   ]
  },
  {
   "cell_type": "code",
   "execution_count": null,
   "metadata": {
    "collapsed": false
   },
   "outputs": [],
   "source": [
    "print(np.dot(L,L.T.conj()))"
   ]
  },
  {
   "cell_type": "code",
   "execution_count": null,
   "metadata": {
    "collapsed": true
   },
   "outputs": [],
   "source": [
    "y = np.linalg.solve(L, B)  # L.L*.x=B; When L*.x=y, then L.y=B"
   ]
  },
  {
   "cell_type": "code",
   "execution_count": null,
   "metadata": {
    "collapsed": false
   },
   "outputs": [],
   "source": [
    "x = np.linalg.solve(L.T.conj(), y)  # x=L*'.y\n",
    "print(x)"
   ]
  },
  {
   "cell_type": "code",
   "execution_count": null,
   "metadata": {
    "collapsed": false
   },
   "outputs": [],
   "source": [
    "print (np.mat(A) * np.mat(x).T)  # B=Ax"
   ]
  },
  {
   "cell_type": "code",
   "execution_count": null,
   "metadata": {
    "collapsed": false
   },
   "outputs": [],
   "source": [
    "\"\"\" QR decomposition with scipy \"\"\"\n",
    "import scipy.linalg as linalg\n",
    "import numpy as np\n",
    "\n",
    "A = np.array([\n",
    "    [2., 1., 1.],\n",
    "    [1., 3., 2.],\n",
    "    [1., 0., 0]])\n",
    "B = np.array([4., 5., 6.])\n",
    "\n",
    "Q, R = linalg.qr(A)  # QR decomposition\n",
    "y = np.dot(Q.T, B)  # Let y=Q'.B\n",
    "x = linalg.solve(R, y)  # Solve Rx=y"
   ]
  },
  {
   "cell_type": "code",
   "execution_count": null,
   "metadata": {
    "collapsed": false
   },
   "outputs": [],
   "source": [
    "print(x)"
   ]
  },
  {
   "cell_type": "code",
   "execution_count": null,
   "metadata": {
    "collapsed": true
   },
   "outputs": [],
   "source": [
    "\"\"\" Solve Ax=B with the Jacobi method \"\"\"\n",
    "import numpy as np\n",
    "\n",
    "\n",
    "def jacobi(A, B, n, tol=1e-10):\n",
    "    # Initializes x with zeroes with same shape and type as B\n",
    "    x = np.zeros_like(B)\n",
    "    \n",
    "    for it_count in range(n):\n",
    "        x_new = np.zeros_like(x)        \n",
    "        for i in range(A.shape[0]):\n",
    "            s1 = np.dot(A[i, :i], x[:i])\n",
    "            s2 = np.dot(A[i, i + 1:], x[i + 1:])\n",
    "            x_new[i] = (B[i] - s1 - s2) / A[i, i]\n",
    "\n",
    "        if np.allclose(x, x_new, tol):\n",
    "            break\n",
    "\n",
    "        x = x_new\n",
    "\n",
    "    return x"
   ]
  },
  {
   "cell_type": "code",
   "execution_count": null,
   "metadata": {
    "collapsed": true
   },
   "outputs": [],
   "source": [
    "A = np.array([[10., -1., 2., 0.],\n",
    "              [-1., 11., -1., 3.],\n",
    "              [2., -1., 10., -1.],\n",
    "              [0.0, 3., -1., 8.]])\n",
    "B = np.array([6., 25., -11., 15.])\n",
    "n = 25"
   ]
  },
  {
   "cell_type": "code",
   "execution_count": null,
   "metadata": {
    "collapsed": false
   },
   "outputs": [],
   "source": [
    "x = jacobi(A, B, n)\n",
    "print('x = ',x)"
   ]
  },
  {
   "cell_type": "code",
   "execution_count": null,
   "metadata": {
    "collapsed": true
   },
   "outputs": [],
   "source": [
    "\"\"\" Solve Ax=B with the Gauss-Seidel method \"\"\"\n",
    "import numpy as np\n",
    "\n",
    "\n",
    "def gauss(A, B, n, tol=1e-10):\n",
    "    L = np.tril(A)  # Returns the lower triangular matrix of A\n",
    "    U = A - L  # Decompose A = L + U\n",
    "    L_inv = np.linalg.inv(L)\n",
    "    x = np.zeros_like(B)\n",
    "    \n",
    "    for i in range(n):        \n",
    "        Ux = np.dot(U, x)\n",
    "        x_new = np.dot(L_inv, B - Ux)\n",
    "        \n",
    "        if np.allclose(x, x_new, tol):\n",
    "            break\n",
    "            \n",
    "        x = x_new\n",
    "        \n",
    "    return x "
   ]
  },
  {
   "cell_type": "code",
   "execution_count": null,
   "metadata": {
    "collapsed": false
   },
   "outputs": [],
   "source": [
    "A = np.array([[10., -1., 2., 0.],\n",
    "              [-1., 11., -1., 3.],\n",
    "              [2., -1., 10., -1.],\n",
    "              [0.0, 3., -1., 8.]])\n",
    "B = np.array([6., 25., -11., 15.])\n",
    "n = 100\n",
    "x = gauss(A, B, n)\n",
    "print('x = ',x)"
   ]
  },
  {
   "cell_type": "code",
   "execution_count": null,
   "metadata": {
    "collapsed": true
   },
   "outputs": [],
   "source": [
    "'''\n",
    "Python code:\n",
    "Incremental search method\n",
    "'''\n",
    "\"\"\" An incremental search algorithm \"\"\"\n",
    "import numpy as np\n",
    " \n",
    " \n",
    "def incremental_search(f, a, b, dx):\n",
    "    \"\"\"\n",
    "    :param f: The function to solve\n",
    "    :param a: The left boundary x-axis value\n",
    "    :param b: The right boundary x-axis value\n",
    "    :param dx: The incremental value in searching\n",
    "    :return: The x-axis value of the root,\n",
    "                number of iterations used\n",
    "    \"\"\"\n",
    "    fa = f(a)    \n",
    "    c = a + dx \n",
    "    fc = f(c)    \n",
    "    n = 1\n",
    " \n",
    "    while np.sign(fa) == np.sign(fc):\n",
    "        if a >= b:\n",
    "            return a - dx, n\n",
    "        \n",
    "        a = c\n",
    "        fa = fc\n",
    "        c = a + dx\n",
    "        fc = f(c)\n",
    "        n += 1\n",
    " \n",
    "    if fa == 0:\n",
    "        return a, n\n",
    "    elif fc == 0:\n",
    "        return c, n\n",
    "    else:\n",
    "        return (a + c)/2., n"
   ]
  },
  {
   "cell_type": "code",
   "execution_count": null,
   "metadata": {
    "collapsed": false
   },
   "outputs": [],
   "source": [
    "y = lambda x: x**3 + 2.0*x**2 - 5.\n",
    "root, iterations = incremental_search(y,-5.,5.,0.001)\n",
    "print('Root is:', root)\n",
    "print('Iterations:',iterations)"
   ]
  },
  {
   "cell_type": "code",
   "execution_count": null,
   "metadata": {
    "collapsed": true
   },
   "outputs": [],
   "source": [
    "\"\"\" The bisection method \"\"\"\n",
    "\n",
    "\n",
    "def bisection(f, a, b, tol=0.1, maxiter=10):\n",
    "    \"\"\"\n",
    "    :param f: The function to solve\n",
    "    :param a: The x-axis value where f(a)<0\n",
    "    :param b: The x-axis value where f(b)>0\n",
    "    :param tol: The precision of the solution\n",
    "    :param maxiter: Maximum number of iterations\n",
    "    :return: The x-axis value of the root,\n",
    "                number of iterations used\n",
    "    \"\"\"\n",
    "    c = (a+b)*0.5  # Declare c as the midpoint ab\n",
    "    n = 1  # Start with 1 iteration\n",
    "    while n <= maxiter:\n",
    "        c = (a+b)*0.5\n",
    "        if f(c) == 0 or abs(a-b)*0.5 < tol:\n",
    "            # Root is found or is very close\n",
    "            return c, n\n",
    "\n",
    "        n += 1\n",
    "        if f(c) < 0:\n",
    "            a = c\n",
    "        else:\n",
    "            b = c\n",
    "                \n",
    "    return c, n"
   ]
  },
  {
   "cell_type": "code",
   "execution_count": null,
   "metadata": {
    "collapsed": false
   },
   "outputs": [],
   "source": [
    "y = lambda x: x**3 + 2*x**2 - 5\n",
    "root, iterations = bisection(y,-5,5,0.00001,100)\n",
    "print('Root is:', root)\n",
    "print('Iterations:',iterations)"
   ]
  },
  {
   "cell_type": "code",
   "execution_count": null,
   "metadata": {
    "collapsed": true
   },
   "outputs": [],
   "source": [
    "\"\"\" The Newton-Raphson method \"\"\"\n",
    "\n",
    "\n",
    "def newton(f, df, x, tol=0.001, maxiter=100):\n",
    "    \"\"\"\n",
    "    :param f: The function to solve\n",
    "    :param df: The derivative function of f\n",
    "    :param x: Initial guess value of x\n",
    "    :param tol: The precision of the solution\n",
    "    :param maxiter: Maximum number of iterations\n",
    "    :return: The x-axis value of the root,\n",
    "                number of iterations used\n",
    "    \"\"\"\n",
    "    n = 1\n",
    "\n",
    "    while n <= maxiter:\n",
    "        x1 = x - f(x)/df(x)\n",
    "        if abs(x1 - x) < tol:  # Root is very close\n",
    "            return x1, n\n",
    "        else:\n",
    "            x = x1\n",
    "            n += 1\n",
    "\n",
    "    return None, n "
   ]
  },
  {
   "cell_type": "code",
   "execution_count": null,
   "metadata": {
    "collapsed": true
   },
   "outputs": [],
   "source": [
    "y = lambda x: x**3 + 2*x**2 - 5"
   ]
  },
  {
   "cell_type": "code",
   "execution_count": null,
   "metadata": {
    "collapsed": true
   },
   "outputs": [],
   "source": [
    "dy = lambda x: 3*x**2 + 4*x"
   ]
  },
  {
   "cell_type": "code",
   "execution_count": null,
   "metadata": {
    "collapsed": true
   },
   "outputs": [],
   "source": [
    "root, iterations = newton(y, dy, 5.0, 0.00001, 100)"
   ]
  },
  {
   "cell_type": "code",
   "execution_count": null,
   "metadata": {
    "collapsed": false
   },
   "outputs": [],
   "source": [
    "print (\"Root is:\", root)"
   ]
  },
  {
   "cell_type": "code",
   "execution_count": null,
   "metadata": {
    "collapsed": false
   },
   "outputs": [],
   "source": [
    "print (\"Iterations:\", iterations)"
   ]
  },
  {
   "cell_type": "code",
   "execution_count": null,
   "metadata": {
    "collapsed": true
   },
   "outputs": [],
   "source": [
    "\"\"\" The secant root-finding method \"\"\"\n",
    "\n",
    "\n",
    "def secant(f, a, b, tol=0.001, maxiter=100):\n",
    "    \"\"\"\n",
    "    :param f: The function to solve\n",
    "    :param a: Initial x-axis guess value\n",
    "    :param b: Initial x-axis guess value, where b>a\n",
    "    :param tol: The precision of the solution\n",
    "    :param maxiter: Maximum number of iterations\n",
    "    :return: The x-axis value of the root,\n",
    "                number of iterations used\n",
    "    \"\"\"\n",
    "    n = 1\n",
    "    while n <= maxiter:\n",
    "        c = b - f(b)*((b-a)/(f(b)-f(a)))\n",
    "        if abs(c-b) < tol:\n",
    "            return c, n\n",
    "\n",
    "        a = b\n",
    "        b = c\n",
    "        n += 1\n",
    "\n",
    "    return None, n"
   ]
  },
  {
   "cell_type": "code",
   "execution_count": null,
   "metadata": {
    "collapsed": false
   },
   "outputs": [],
   "source": [
    "y = lambda x: x**3 + 2*x**2 - 5\n",
    "root, iterations = secant(y,-5,5,0.00001,100)\n",
    "print('Root is:', root)\n",
    "print('Iterations:',iterations)"
   ]
  },
  {
   "cell_type": "code",
   "execution_count": null,
   "metadata": {
    "collapsed": false
   },
   "outputs": [],
   "source": [
    "\"\"\"\n",
    "Documentation at\n",
    "http://docs.scipy.org/doc/scipy/reference/optimize.html\n",
    "\"\"\"\n",
    "import scipy.optimize as optimize\n",
    "\n",
    "y = lambda x: x**3 + 2.*x**2 - 5.\n",
    "dy = lambda x: 3.*x**2 + 4.*x\n",
    "# Call method: bisect(f, a, b[, args, xtol, rtol, maxiter, ...])\n",
    "print (\"Bisection method: {}\" \\\n",
    "      .format(optimize.bisect(y, -5., 5., xtol=0.00001)))\n",
    "\n",
    "# Call method: newton(func, x0[, fprime, args, tol, ...])\n",
    "print (\"Newton's method: {}\" \\\n",
    "      .format(optimize.newton(y, 5., fprime=dy)))\n",
    "# When fprime=None, then the secant method is used.\n",
    "print (\"Secant method: {}\" \\\n",
    "      .format(optimize.newton(y, 5.)))\n",
    "\n",
    "# Call method: brentq(f, a, b[, args, xtol, rtol, maxiter, ...])\n",
    "print (\"Brent's method:{}\" \\\n",
    "      .format(optimize.brentq(y, -5., 5.))) "
   ]
  },
  {
   "cell_type": "code",
   "execution_count": null,
   "metadata": {
    "collapsed": false
   },
   "outputs": [],
   "source": [
    "\"\"\" Price a European option by the binomial tree model \"\"\"\n",
    "#from StockOption import StockOption\n",
    "import math\n",
    "import numpy as np\n",
    "\n",
    "class StockOption(object):\n",
    "\n",
    "    def __init__(self, S0, K, r, T, N, params):\n",
    "        self.S0 = S0\n",
    "        self.K = K\n",
    "        self.r = r\n",
    "        self.T = T\n",
    "        self.N = max(1, N) # Ensure N have at least 1 time step\n",
    "        self.STs = None  # Declare the stock prices tree\n",
    "        \n",
    "        \"\"\" Optional parameters used by derived classes \"\"\"\n",
    "        self.pu = params.get(\"pu\", 0)  # Probability of up state\n",
    "        self.pd = params.get(\"pd\", 0)  # Probability of down state\n",
    "        self.div = params.get(\"div\", 0)  # Dividend yield\n",
    "        self.sigma = params.get(\"sigma\", 0)  # Volatility\n",
    "        self.is_call = params.get(\"is_call\", True)  # Call or put\n",
    "        self.is_european = params.get(\"is_eu\", True)  # Eu or Am\n",
    "\n",
    "        \"\"\" Computed values \"\"\"\n",
    "        self.dt = T/float(N)  # Single time step, in years\n",
    "        self.df = math.exp(\n",
    "            -(r-self.div) * self.dt)  # Discount factor"
   ]
  },
  {
   "cell_type": "code",
   "execution_count": null,
   "metadata": {
    "collapsed": true
   },
   "outputs": [],
   "source": [
    "class BinomialEuropeanOption(StockOption):\n",
    "\n",
    "    def __setup_parameters__(self):\n",
    "        \"\"\" Required calculations for the model \"\"\"\n",
    "        self.M = self.N + 1  # Number of terminal nodes of tree\n",
    "        self.u = 1 + self.pu  # Expected value in the up state\n",
    "        self.d = 1 - self.pd  # Expected value in the down state\n",
    "        self.qu = (math.exp((self.r-self.div)*self.dt) -\n",
    "                   self.d) / (self.u-self.d)\n",
    "        self.qd = 1-self.qu\n",
    "\n",
    "    def _initialize_stock_price_tree_(self):\n",
    "        # Initialize terminal price nodes to zeros\n",
    "        self.STs = np.zeros(self.M)\n",
    "\n",
    "        # Calculate expected stock prices for each node\n",
    "        for i in range(self.M):\n",
    "            self.STs[i] = self.S0*(self.u**(self.N-i))*(self.d**i)\n",
    "\n",
    "    def _initialize_payoffs_tree_(self):\n",
    "        # Get payoffs when the option expires at terminal nodes\n",
    "        payoffs = np.maximum(\n",
    "            0, (self.STs-self.K) if self.is_call\n",
    "            else(self.K-self.STs))\n",
    "\n",
    "        return payoffs\n",
    "\n",
    "    def _traverse_tree_(self, payoffs):\n",
    "        # Starting from the time the option expires, traverse\n",
    "        # backwards and calculate discounted payoffs at each node\n",
    "        for i in range(self.N):\n",
    "            print(payoffs)\n",
    "            print(self.qu)\n",
    "            print(payoffs[:-1] * self.qu)\n",
    "            print(payoffs[1:] * self.qu)\n",
    "            payoffs = (payoffs[:-1] * self.qu +\n",
    "                       payoffs[1:] * self.qd) * self.df\n",
    "            #print(payoffs)\n",
    "\n",
    "        return payoffs\n",
    "\n",
    "    def __begin_tree_traversal__(self):\n",
    "        payoffs = self._initialize_payoffs_tree_()\n",
    "        return self._traverse_tree_(payoffs)\n",
    "\n",
    "    def price(self):\n",
    "        \"\"\" The pricing implementation \"\"\"\n",
    "        self.__setup_parameters__()\n",
    "        self._initialize_stock_price_tree_()\n",
    "        payoffs = self.__begin_tree_traversal__()\n",
    "        return payoffs[0]  # Option value converges to first node"
   ]
  },
  {
   "cell_type": "code",
   "execution_count": null,
   "metadata": {
    "collapsed": false,
    "scrolled": true
   },
   "outputs": [],
   "source": [
    "eu_option = BinomialEuropeanOption(50,50,0.05,0.5,2,{\"pu\":0.2,\"pd\":0.2,\"is_call\":False})\n",
    "print(eu_option.price())"
   ]
  },
  {
   "cell_type": "code",
   "execution_count": null,
   "metadata": {
    "collapsed": false
   },
   "outputs": [],
   "source": [
    "\"\"\" Price a European or American option by the binomial tree \"\"\"\n",
    "#from StockOption import StockOption\n",
    "import math\n",
    "import numpy as np\n",
    "\n",
    "\n",
    "class BinomialTreeOption(StockOption):\n",
    "\n",
    "    def _setup_parameters_(self):\n",
    "        self.u = 1 + self.pu  # Expected value in the up state\n",
    "        self.d = 1 - self.pd  # Expected value in the down state\n",
    "        self.qu = (math.exp((self.r-self.div)*self.dt) -\n",
    "                   self.d)/(self.u-self.d)\n",
    "        self.qd = 1-self.qu\n",
    "\n",
    "    def _initialize_stock_price_tree_(self):\n",
    "        # Initialize a 2D tree at T=0\n",
    "        self.STs = [np.array([self.S0])]\n",
    "\n",
    "        # Simulate the possible stock prices path\n",
    "        for i in range(self.N):\n",
    "            prev_branches = self.STs[-1]\n",
    "            st = np.concatenate((prev_branches*self.u,\n",
    "                                 [prev_branches[-1]*self.d]))\n",
    "            self.STs.append(st)  # Add nodes at each time step\n",
    "\n",
    "    def _initialize_payoffs_tree_(self):\n",
    "        # The payoffs when option expires\n",
    "        return np.maximum(\n",
    "            0, (self.STs[self.N]-self.K) if self.is_call\n",
    "            else (self.K-self.STs[self.N]))\n",
    "\n",
    "    def __check_early_exercise__(self, payoffs, node):\n",
    "        early_ex_payoff = \\\n",
    "            (self.STs[node] - self.K) if self.is_call \\\n",
    "            else (self.K - self.STs[node])\n",
    "\n",
    "        return np.maximum(payoffs, early_ex_payoff)\n",
    "\n",
    "    def _traverse_tree_(self, payoffs):\n",
    "        for i in reversed(range(self.N)):\n",
    "            # The payoffs from NOT exercising the option\n",
    "            payoffs = (payoffs[:-1] * self.qu +\n",
    "                       payoffs[1:] * self.qd) * self.df\n",
    "\n",
    "            # Payoffs from exercising, for American options\n",
    "            if not self.is_european:\n",
    "                payoffs = self.__check_early_exercise__(payoffs, \n",
    "                                                        i)\n",
    "        return payoffs\n",
    "\n",
    "    def __begin_tree_traversal__(self):\n",
    "        payoffs = self._initialize_payoffs_tree_()\n",
    "        return self._traverse_tree_(payoffs)\n",
    "\n",
    "    def price(self):\n",
    "        self._setup_parameters_()\n",
    "        self._initialize_stock_price_tree_()\n",
    "        payoffs = self.__begin_tree_traversal__()\n",
    "\n",
    "        return payoffs[0]"
   ]
  },
  {
   "cell_type": "code",
   "execution_count": null,
   "metadata": {
    "collapsed": false
   },
   "outputs": [],
   "source": [
    "am_option = BinomialTreeOption(50,50,0.05,0.5,2,{\"pu\":0.2,\"pd\":0.2,\"is_call\":False,\"is_eu\":False})\n",
    "am_option.price()"
   ]
  },
  {
   "cell_type": "code",
   "execution_count": null,
   "metadata": {
    "collapsed": false
   },
   "outputs": [],
   "source": [
    "\"\"\" Price an option by the binomial CRR model \"\"\"\n",
    "import math\n",
    "\n",
    "\n",
    "class BinomialCRROption(BinomialTreeOption):\n",
    "\n",
    "    def _setup_parameters_(self):\n",
    "        self.u = math.exp(self.sigma * math.sqrt(self.dt))\n",
    "        self.d = 1./self.u\n",
    "        self.qu = (math.exp((self.r-self.div)*self.dt) -\n",
    "                   self.d)/(self.u-self.d)\n",
    "        self.qd = 1-self.qu\n"
   ]
  },
  {
   "cell_type": "code",
   "execution_count": null,
   "metadata": {
    "collapsed": false
   },
   "outputs": [],
   "source": [
    "eu_option = BinomialCRROption(50,50,0.05,0.5,2,{'sigma':0.3,'is_call':False})\n",
    "print('European put: %s' % eu_option.price())\n",
    "am_opton = BinomialCRROption(50,50,0.05,0.5,2,{'sigma':0.3,'is_call':False,'is_eu':False})\n",
    "print('American put: %s' % am_option.price())"
   ]
  },
  {
   "cell_type": "code",
   "execution_count": null,
   "metadata": {
    "collapsed": true
   },
   "outputs": [],
   "source": [
    "class BinomialLROption(BinomialTreeOption):\n",
    "\n",
    "    def _setup_parameters_(self):\n",
    "        odd_N = self.N if (self.N%2 == 1) else (self.N+1)\n",
    "        d1 = (math.log(self.S0/self.K) +\n",
    "              ((self.r-self.div) +\n",
    "               (self.sigma**2)/2.) *\n",
    "              self.T) / (self.sigma * math.sqrt(self.T))\n",
    "        d2 = (math.log(self.S0/self.K) +\n",
    "              ((self.r-self.div) -\n",
    "               (self.sigma**2)/2.) *\n",
    "              self.T) / (self.sigma * math.sqrt(self.T))\n",
    "        pp_2_inversion = \\\n",
    "            lambda z, n: \\\n",
    "            .5 + math.copysign(1, z) * \\\n",
    "            math.sqrt(.25 - .25 * math.exp(\n",
    "                -((z/(n+1./3.+.1/(n+1)))**2.)*(n+1./6.)))\n",
    "        pbar = pp_2_inversion(d1, odd_N)\n",
    "\n",
    "        self.p = pp_2_inversion(d2, odd_N)\n",
    "        self.u = 1/self.df * pbar/self.p\n",
    "        self.d = (1/self.df - self.p*self.u)/(1-self.p)\n",
    "        self.qu = self.p\n",
    "        self.qd = 1-self.p"
   ]
  },
  {
   "cell_type": "code",
   "execution_count": null,
   "metadata": {
    "collapsed": false
   },
   "outputs": [],
   "source": [
    "eu_option = BinomialLROption(50,50,0.05,0.5,3,{'sigma':0.3,'is_call':False})\n",
    "print('European put: %s' % eu_option.price())\n",
    "am_opton = BinomialLROption(50,50,0.05,0.5,3,{'sigma':0.3,'is_call':False,'is_eu':False})\n",
    "print('American put: %s' % am_option.price())"
   ]
  },
  {
   "cell_type": "code",
   "execution_count": null,
   "metadata": {
    "collapsed": false
   },
   "outputs": [],
   "source": [
    "class BinomialLRWithGreeks(BinomialLROption):\n",
    "\n",
    "    def __new_stock_price_tree__(self):\n",
    "        \"\"\"\n",
    "        Create additional layer of nodes to our\n",
    "        original stock price tree\n",
    "        \"\"\"\n",
    "        self.STs = [np.array([self.S0*self.u/self.d,\n",
    "                              self.S0,\n",
    "                              self.S0*self.d/self.u])]\n",
    "\n",
    "        for i in range(self.N):\n",
    "            prev_branches = self.STs[-1]\n",
    "            st = np.concatenate((prev_branches * self.u,\n",
    "                                 [prev_branches[-1] * self.d]))\n",
    "            self.STs.append(st)\n",
    "\n",
    "    def price(self):\n",
    "        self._setup_parameters_()\n",
    "        self.__new_stock_price_tree__()\n",
    "        payoffs = self.__begin_tree_traversal__()\n",
    "\n",
    "        \"\"\" Option value is now in the middle node at t=0\"\"\"\n",
    "        option_value = payoffs[len(payoffs)/2]\n",
    "\n",
    "        payoff_up = payoffs[0]\n",
    "        payoff_down = payoffs[-1]\n",
    "        S_up = self.STs[0][0]\n",
    "        S_down = self.STs[0][-1]\n",
    "        dS_up = S_up - self.S0\n",
    "        dS_down = self.S0 - S_down\n",
    "\n",
    "        \"\"\" Get delta value \"\"\"\n",
    "        dS = S_up - S_down\n",
    "        dV = payoff_up - payoff_down\n",
    "        delta = dV/dS\n",
    "\n",
    "        \"\"\" Get gamma value \"\"\"\n",
    "        gamma = ((payoff_up-option_value)/dS_up -\n",
    "                 (option_value-payoff_down)/dS_down) / \\\n",
    "                ((self.S0+S_up)/2. - (self.S0+S_down)/2.)\n",
    "\n",
    "        return option_value, delta, gamma"
   ]
  },
  {
   "cell_type": "code",
   "execution_count": null,
   "metadata": {
    "collapsed": false
   },
   "outputs": [],
   "source": [
    "eu_call = BinomialLRWithGreeks(50, 50, 0.05, 0.5, 300, {\"sigma\": 0.3, \"is_call\": True})\n",
    "results = eu_call.price()\n",
    "print (\"European put values\")\n",
    "print ('Price: %s\\nDelta: %s\\nGamma: %s' % results)\n",
    "eu_put = BinomialLRWithGreeks(50, 50, 0.05, 0.5, 300, {\"sigma\":0.3, \"is_call\": False})\n",
    "results = eu_put.price()\n",
    "print (\"European put values\")\n",
    "print (\"Price: %s\\nDelta: %s\\nGamma: %s\" % results)"
   ]
  },
  {
   "cell_type": "code",
   "execution_count": null,
   "metadata": {
    "collapsed": true
   },
   "outputs": [],
   "source": [
    "\n",
    "class TrinomialTreeOption(BinomialTreeOption):\n",
    "\n",
    "    def _setup_parameters_(self):\n",
    "        \"\"\" Required calculations for the model \"\"\"\n",
    "        self.u = math.exp(self.sigma*math.sqrt(2.*self.dt))\n",
    "        self.d = 1/self.u\n",
    "        self.m = 1\n",
    "        self.qu = ((math.exp((self.r-self.div) *\n",
    "                             self.dt/2.) -\n",
    "                    math.exp(-self.sigma *\n",
    "                             math.sqrt(self.dt/2.))) /\n",
    "                   (math.exp(self.sigma *\n",
    "                             math.sqrt(self.dt/2.)) -\n",
    "                    math.exp(-self.sigma *\n",
    "                             math.sqrt(self.dt/2.))))**2\n",
    "        self.qd = ((math.exp(self.sigma *\n",
    "                             math.sqrt(self.dt/2.)) -\n",
    "                    math.exp((self.r-self.div) *\n",
    "                             self.dt/2.)) /\n",
    "                   (math.exp(self.sigma *\n",
    "                             math.sqrt(self.dt/2.)) -\n",
    "                    math.exp(-self.sigma *\n",
    "                             math.sqrt(self.dt/2.))))**2.\n",
    "\n",
    "        self.qm = 1 - self.qu - self.qd\n",
    "\n",
    "    def _initialize_stock_price_tree_(self):\n",
    "        \"\"\" Initialize a 2D tree at t=0 \"\"\"\n",
    "        self.STs = [np.array([self.S0])]\n",
    "\n",
    "        for i in range(self.N):\n",
    "            prev_nodes = self.STs[-1]\n",
    "            self.ST = np.concatenate(\n",
    "                (prev_nodes*self.u, [prev_nodes[-1]*self.m,\n",
    "                                     prev_nodes[-1]*self.d]))\n",
    "            self.STs.append(self.ST)\n",
    "\n",
    "    def _traverse_tree_(self, payoffs):\n",
    "        \"\"\" Traverse the tree backwards \"\"\"\n",
    "        for i in reversed(range(self.N)):\n",
    "            payoffs = (payoffs[:-2] * self.qu +\n",
    "                       payoffs[1:-1] * self.qm +\n",
    "                       payoffs[2:] * self.qd) * self.df\n",
    "\n",
    "            if not self.is_european:\n",
    "                payoffs = self.__check_early_exercise__(payoffs,\n",
    "                                                        i)\n",
    "\n",
    "        return payoffs"
   ]
  },
  {
   "cell_type": "code",
   "execution_count": null,
   "metadata": {
    "collapsed": false
   },
   "outputs": [],
   "source": [
    "eu_put = TrinomialTreeOption(50, 50, 0.05, 0.5, 2,{\"sigma\": 0.3, \"is_call\": False})\n",
    "print (\"European put: %s\" % eu_put.price())\n",
    "am_option = TrinomialTreeOption(50, 50, 0.05, 0.5, 2,{\"sigma\": 0.3, \"is_call\": False, \"is_eu\": False})\n",
    "print (\"American put: %s\" % am_option.price())\n"
   ]
  },
  {
   "cell_type": "code",
   "execution_count": null,
   "metadata": {
    "collapsed": true
   },
   "outputs": [],
   "source": [
    "class ImpliedVolatilityModel(object):\n",
    "\n",
    "    def __init__(self, S0, r, T, div, N,\n",
    "                 is_call=False):\n",
    "        self.S0 = S0\n",
    "        self.r = r\n",
    "        self.T = T\n",
    "        self.div = div\n",
    "        self.N = N\n",
    "        self.is_call = is_call\n",
    "\n",
    "    def _option_valuation_(self, K, sigma):\n",
    "        # Use the binomial Leisen-Reimer tree\n",
    "        lr_option = BinomialLROption(\n",
    "            self.S0, K, self.r,  self.T, self.N,\n",
    "            {\"sigma\": sigma,\n",
    "             \"is_call\": self.is_call,\n",
    "             \"div\": self.div})\n",
    "        return lr_option.price()\n",
    "\n",
    "    def get_implied_volatilities(self, Ks, opt_prices):\n",
    "        impvols = []\n",
    "        for i in range(len(Ks)):\n",
    "            # Bind f(sigma) for use by the bisection method\n",
    "            f = lambda sigma: \\\n",
    "                self._option_valuation_(\n",
    "                    Ks[i], sigma) - opt_prices[i]\n",
    "            impv = bisection(f, 0.01, 0.99, 0.0001, 100)[0]\n",
    "            impvols.append(impv)\n",
    "        return impvols"
   ]
  },
  {
   "cell_type": "code",
   "execution_count": null,
   "metadata": {
    "collapsed": false
   },
   "outputs": [],
   "source": [
    "strikes = [ 75, 80, 85, 90, 92.5, 95, 97.5,100, 105, 110, 115, 120, 125]\n",
    "put_prices = [0.16, 0.32, 0.6, 1.22, 1.77, 2.54, 3.55,4.8, 7.75, 11.8, 15.96, 20.75, 25.81]\n",
    "model = ImpliedVolatilityModel(99.62, 0.0248, 78/365.,0.0182, 77, is_call=False)\n",
    "impvols_put = model.get_implied_volatilities(strikes, put_prices) "
   ]
  },
  {
   "cell_type": "code",
   "execution_count": null,
   "metadata": {
    "collapsed": false
   },
   "outputs": [],
   "source": [
    ">>> import matplotlib.pyplot as plt\n",
    ">>> plt.plot(strikes, impvols_put)\n",
    ">>> plt.xlabel('Strike Prices')\n",
    ">>> plt.ylabel('Implied Volatilities')\n",
    ">>> plt.title('AAPL Put Implied Volatilities expiring in 78 days')\n",
    ">>> plt.show()"
   ]
  },
  {
   "cell_type": "code",
   "execution_count": null,
   "metadata": {
    "collapsed": false
   },
   "outputs": [],
   "source": [
    "import oandapy\n",
    "account_id= '101-001-6722193-001'\n",
    "key='696b275e1ccb748a410af5b1d36eead9-506c9671ff4b0a0dabec0d829e7620fd'\n",
    "oanda = oandapy.API(environment=\"practice\", access_token=key)\n",
    "response = oanda.get_prices(instruments=\"EUR_USD\")\n",
    "print (response)"
   ]
  },
  {
   "cell_type": "code",
   "execution_count": null,
   "metadata": {
    "collapsed": false
   },
   "outputs": [],
   "source": [
    ">>> prices = response[\"prices\"]\n",
    ">>> bidding_price = float(prices[0][\"bid\"])\n",
    ">>> asking_price = float(prices[0][\"ask\"])\n",
    ">>> instrument = prices[0][\"instrument\"]\n",
    ">>> time = prices[0][\"time\"]\n",
    "\n",
    ">>> print (\"[%s] %s bid=%s ask=%s\" % (\n",
    ">>>     time, instrument, bidding_price, asking_price))"
   ]
  },
  {
   "cell_type": "code",
   "execution_count": null,
   "metadata": {
    "collapsed": false
   },
   "outputs": [],
   "source": [
    "from datetime import datetime, timedelta\n",
    "# set the trade to expire after one day\n",
    "trade_expire = datetime.now() + timedelta(days=1)\n",
    "trade_expire = trade_expire.isoformat(\"T\") + \"Z\"\n",
    "trade_expire\n",
    "\n"
   ]
  },
  {
   "cell_type": "code",
   "execution_count": 14,
   "metadata": {
    "collapsed": false,
    "scrolled": false
   },
   "outputs": [
    {
     "name": "stdout",
     "output_type": "stream",
     "text": [
      "{'relatedTransactionIDs': ['69', '70'], 'orderFillTransaction': {'id': '70', 'financing': '0.0000', 'accountID': '101-001-6722193-001', 'accountBalance': '99939.1173', 'batchID': '69', 'instrument': 'EUR_USD', 'orderID': '69', 'tradeOpened': {'units': '100', 'tradeID': '70'}, 'requestID': '24331496182447387', 'userID': 6722193, 'pl': '0.0000', 'price': '1.19500', 'type': 'ORDER_FILL', 'reason': 'MARKET_ORDER', 'commission': '0.0000', 'time': '2017-09-22T20:50:51.266870049Z', 'units': '100', 'fullPrice': {'asks': [{'price': '1.19500', 'liquidity': '10000000'}], 'bids': [{'price': '1.19475', 'liquidity': '10000000'}], 'closeoutBid': '1.19460', 'timestamp': '2017-09-22T20:50:51.203872045Z', 'closeoutAsk': '1.19515'}}, 'lastTransactionID': '70', 'orderCreateTransaction': {'id': '69', 'accountID': '101-001-6722193-001', 'timeInForce': 'FOK', 'instrument': 'EUR_USD', 'positionFill': 'DEFAULT', 'requestID': '24331496182447387', 'userID': 6722193, 'reason': 'CLIENT_ORDER', 'batchID': '69', 'units': '100', 'time': '2017-09-22T20:50:51.266870049Z', 'type': 'MARKET_ORDER'}}\n"
     ]
    }
   ],
   "source": [
    "# get a list of trades\n",
    "from oandapyV20 import API\n",
    "import oandapyV20.endpoints.trades as trades\n",
    "import oandapyV20.endpoints.orders as orders\n",
    "import json\n",
    "\n",
    "order = {\n",
    "  \"order\": {\n",
    "    \"price\": \"1.2\",\n",
    "    \"stopLossOnFill\": {\n",
    "      \"timeInForce\": \"GTC\",\n",
    "      \"price\": \"1.22\"\n",
    "    },\n",
    "    \"timeInForce\": \"GTC\",\n",
    "    \"instrument\": \"EUR_USD\",\n",
    "    \"units\": \"100\",\n",
    "    \"type\": \"LIMIT\",\n",
    "    \"positionFill\": \"DEFAULT\"\n",
    "        \n",
    "  }\n",
    "}\n",
    "market_order = {\n",
    "  \"order\": {\n",
    "    \"instrument\": \"EUR_USD\",\n",
    "    \"units\": \"100\",\n",
    "    \"type\": \"MARKET\",\n",
    "    \"positionFill\": \"DEFAULT\"\n",
    "        \n",
    "  }\n",
    "}\n",
    "\n",
    "accountID = \"101-001-6722193-001\"\n",
    "client = API(access_token=\"04e86c6b0c7bfe71bf7f98d2b1a6496d-dee13f6f97c4508b949c42deaf95925b\")\n",
    "r = orders.OrderCreate(accountID, market_order)\n",
    "client.request(r)\n",
    "print(r.response)"
   ]
  },
  {
   "cell_type": "code",
   "execution_count": null,
   "metadata": {
    "collapsed": false
   },
   "outputs": [],
   "source": [
    "\"\"\"\n",
    "Implementing the trend-following algorithm\n",
    "for trading foreign currencies\n",
    "\"\"\"\n",
    "import oandapy\n",
    "from datetime import datetime\n",
    "import pandas as pd\n",
    "\n",
    "\n",
    "class ForexSystem(oandapy.Streamer):\n",
    "    def __init__(self, *args, **kwargs):\n",
    "        oandapy.Streamer.__init__(self, *args, **kwargs)\n",
    "        self.oanda = oandapy.API(kwargs[\"environment\"],\n",
    "                                 kwargs[\"access_token\"])\n",
    "\n",
    "        self.instrument = None\n",
    "        self.account_id = None\n",
    "        self.qty = 0\n",
    "        self.resample_interval = '10s'\n",
    "        self.mean_period_short = 5\n",
    "        self.mean_period_long = 20\n",
    "        self.buy_threshold = 1.0\n",
    "        self.sell_threshold = 1.0\n",
    "\n",
    "        self.prices = pd.DataFrame()\n",
    "        self.beta = 0\n",
    "        self.is_position_opened = False\n",
    "        self.opening_price = 0\n",
    "        self.executed_price = 0\n",
    "        self.unrealized_pnl = 0\n",
    "        self.realized_pnl = 0\n",
    "        self.position = 0\n",
    "        self.dt_format = \"%Y-%m-%dT%H:%M:%S.%fZ\"\n",
    "        \n",
    "    def begin(self, **params):\n",
    "        self.instrument = params[\"instruments\"]\n",
    "        self.account_id = params[\"accountId\"]\n",
    "        self.qty = params[\"qty\"]\n",
    "        self.resample_interval = params[\"resample_interval\"]\n",
    "        self.mean_period_short = params[\"mean_period_short\"]\n",
    "        self.mean_period_long = params[\"mean_period_long\"]\n",
    "        self.buy_threshold = params[\"buy_threshold\"]\n",
    "        self.sell_threshold = params[\"sell_threshold\"]\n",
    "\n",
    "        self.start(**params)  # Start streaming prices\n",
    "        \n",
    "    def on_success(self, data):\n",
    "        time, symbol, bid, ask = self.parse_tick_data(\n",
    "            data[\"tick\"])\n",
    "        self.tick_event(time, symbol, bid, ask) \n",
    "    \n",
    "    def tick_event(self, time, symbol, bid, ask):\n",
    "        midprice = (ask+bid)/2.\n",
    "        self.prices.loc[time, symbol] = midprice\n",
    "\n",
    "        resampled_prices = self.prices.resample(\n",
    "            self.resample_interval,\n",
    "            how='last',\n",
    "            fill_method=\"ffill\")\n",
    "\n",
    "        mean_short = resampled_prices.tail(\n",
    "            self.mean_period_short).mean()[0]\n",
    "        mean_long = resampled_prices.tail(\n",
    "            self.mean_period_long).mean()[0]\n",
    "        self.beta = mean_short / mean_long\n",
    "\n",
    "        self.perform_trade_logic(self.beta)\n",
    "        self.calculate_unrealized_pnl(bid, ask)\n",
    "        self.print_status()\n",
    "        \n",
    "    def perform_trade_logic(self, beta):\n",
    "        if beta > self.buy_threshold:\n",
    "            if not self.is_position_opened \\\n",
    "                    or self.position < 0:\n",
    "                self.check_and_send_order(True)\n",
    "\n",
    "        elif beta < self.sell_threshold:\n",
    "            if not self.is_position_opened \\\n",
    "                    or self.position > 0:\n",
    "                self.check_and_send_order(False)\n",
    "    def print_status(self):\n",
    "        print (\"[%s] %s pos=%s beta=%s RPnL=%s UPnL=%s\" % (\n",
    "            datetime.now().time(),\n",
    "            self.instrument, \n",
    "            self.position, \n",
    "            round(self.beta, 5),\n",
    "            self.realized_pnl, \n",
    "            self.unrealized_pnl)\n",
    "               )"
   ]
  },
  {
   "cell_type": "code",
   "execution_count": null,
   "metadata": {
    "collapsed": false,
    "scrolled": true
   },
   "outputs": [],
   "source": [
    "key = \"04e86c6b0c7bfe71bf7f98d2b1a6496d-dee13f6f97c4508b949c42deaf95925b\"\n",
    "account_id = \"101-001-6722193-001\"\n",
    "system = ForexSystem(environment=\"practice\", access_token=key)\n",
    "system.begin(accountId=account_id,\n",
    "             instruments=\"EUR_USD\",\n",
    "             qty=1000,\n",
    "             resample_interval=\"10s\",\n",
    "             mean_period_short=5,\n",
    "             mean_period_long=20,\n",
    "             buy_threshold=1.0,\n",
    "             sell_threshold=1.0) "
   ]
  },
  {
   "cell_type": "code",
   "execution_count": 4,
   "metadata": {
    "collapsed": false,
    "scrolled": true
   },
   "outputs": [
    {
     "name": "stdout",
     "output_type": "stream",
     "text": [
      "{'instrument': 'EUR_USD', 'bids': [{'price': '1.19635', 'liquidity': 10000000}], 'closeoutBid': '1.19620', 'status': 'tradeable', 'asks': [{'price': '1.19647', 'liquidity': 10000000}], 'tradeable': True, 'type': 'PRICE', 'time': '2017-09-22T15:26:08.256757252Z', 'closeoutAsk': '1.19662'}\n",
      "{'instrument': 'EUR_JPY', 'bids': [{'price': '134.026', 'liquidity': 10000000}], 'closeoutBid': '134.026', 'status': 'tradeable', 'asks': [{'price': '134.042', 'liquidity': 10000000}], 'tradeable': True, 'type': 'PRICE', 'time': '2017-09-22T15:26:07.278679939Z', 'closeoutAsk': '134.042'}\n",
      "{'instrument': 'EUR_USD', 'bids': [{'price': '1.19641', 'liquidity': 10000000}], 'closeoutBid': '1.19626', 'status': 'tradeable', 'asks': [{'price': '1.19651', 'liquidity': 10000000}], 'tradeable': True, 'type': 'PRICE', 'time': '2017-09-22T15:26:10.052967363Z', 'closeoutAsk': '1.19666'}\n",
      "{'instrument': 'EUR_JPY', 'bids': [{'price': '134.030', 'liquidity': 10000000}], 'closeoutBid': '134.030', 'status': 'tradeable', 'asks': [{'price': '134.046', 'liquidity': 10000000}], 'tradeable': True, 'type': 'PRICE', 'time': '2017-09-22T15:26:09.874408416Z', 'closeoutAsk': '134.046'}\n",
      "{'instrument': 'EUR_USD', 'bids': [{'price': '1.19640', 'liquidity': 10000000}], 'closeoutBid': '1.19625', 'status': 'tradeable', 'asks': [{'price': '1.19651', 'liquidity': 10000000}], 'tradeable': True, 'type': 'PRICE', 'time': '2017-09-22T15:26:10.319149741Z', 'closeoutAsk': '1.19666'}\n",
      "{'instrument': 'EUR_USD', 'bids': [{'price': '1.19637', 'liquidity': 10000000}], 'closeoutBid': '1.19622', 'status': 'tradeable', 'asks': [{'price': '1.19649', 'liquidity': 10000000}], 'tradeable': True, 'type': 'PRICE', 'time': '2017-09-22T15:26:11.427613302Z', 'closeoutAsk': '1.19664'}\n",
      "{'instrument': 'EUR_JPY', 'bids': [{'price': '134.027', 'liquidity': 10000000}], 'closeoutBid': '134.027', 'status': 'tradeable', 'asks': [{'price': '134.043', 'liquidity': 10000000}], 'tradeable': True, 'type': 'PRICE', 'time': '2017-09-22T15:26:17.359416906Z', 'closeoutAsk': '134.043'}\n",
      "{'instrument': 'EUR_USD', 'bids': [{'price': '1.19643', 'liquidity': 10000000}], 'closeoutBid': '1.19628', 'status': 'tradeable', 'asks': [{'price': '1.19654', 'liquidity': 10000000}], 'tradeable': True, 'type': 'PRICE', 'time': '2017-09-22T15:26:23.095327982Z', 'closeoutAsk': '1.19669'}\n",
      "{'instrument': 'EUR_USD', 'bids': [{'price': '1.19647', 'liquidity': 10000000}], 'closeoutBid': '1.19632', 'status': 'tradeable', 'asks': [{'price': '1.19658', 'liquidity': 10000000}], 'tradeable': True, 'type': 'PRICE', 'time': '2017-09-22T15:26:23.867526282Z', 'closeoutAsk': '1.19673'}\n",
      "{'instrument': 'EUR_JPY', 'bids': [{'price': '134.027', 'liquidity': 10000000}], 'closeoutBid': '134.027', 'status': 'tradeable', 'asks': [{'price': '134.043', 'liquidity': 10000000}], 'tradeable': True, 'type': 'PRICE', 'time': '2017-09-22T15:26:23.836362813Z', 'closeoutAsk': '134.043'}\n",
      "{'instrument': 'EUR_JPY', 'bids': [{'price': '134.031', 'liquidity': 10000000}], 'closeoutBid': '134.031', 'status': 'tradeable', 'asks': [{'price': '134.046', 'liquidity': 10000000}], 'tradeable': True, 'type': 'PRICE', 'time': '2017-09-22T15:26:23.955610873Z', 'closeoutAsk': '134.046'}\n",
      "{'instrument': 'EUR_USD', 'bids': [{'price': '1.19647', 'liquidity': 10000000}], 'closeoutBid': '1.19632', 'status': 'tradeable', 'asks': [{'price': '1.19659', 'liquidity': 10000000}], 'tradeable': True, 'type': 'PRICE', 'time': '2017-09-22T15:26:24.207035420Z', 'closeoutAsk': '1.19674'}\n"
     ]
    },
    {
     "ename": "KeyboardInterrupt",
     "evalue": "",
     "output_type": "error",
     "traceback": [
      "\u001b[0;31m---------------------------------------------------------------------------\u001b[0m",
      "\u001b[0;31mKeyboardInterrupt\u001b[0m                         Traceback (most recent call last)",
      "\u001b[0;32m<ipython-input-4-3cd0ed425424>\u001b[0m in \u001b[0;36m<module>\u001b[0;34m()\u001b[0m\n\u001b[1;32m      9\u001b[0m \u001b[0mrv\u001b[0m \u001b[1;33m=\u001b[0m \u001b[0mapi\u001b[0m\u001b[1;33m.\u001b[0m\u001b[0mrequest\u001b[0m\u001b[1;33m(\u001b[0m\u001b[0mr\u001b[0m\u001b[1;33m)\u001b[0m\u001b[1;33m\u001b[0m\u001b[0m\n\u001b[1;32m     10\u001b[0m \u001b[1;33m\u001b[0m\u001b[0m\n\u001b[0;32m---> 11\u001b[0;31m \u001b[1;32mfor\u001b[0m \u001b[0mtick\u001b[0m \u001b[1;32min\u001b[0m \u001b[0mrv\u001b[0m\u001b[1;33m:\u001b[0m\u001b[1;33m\u001b[0m\u001b[0m\n\u001b[0m\u001b[1;32m     12\u001b[0m     \u001b[1;31m#print(json.dumps(ticks,indent=4),\",\")\u001b[0m\u001b[1;33m\u001b[0m\u001b[1;33m\u001b[0m\u001b[0m\n\u001b[1;32m     13\u001b[0m     \u001b[1;32mif\u001b[0m\u001b[1;33m(\u001b[0m\u001b[0mtick\u001b[0m\u001b[1;33m[\u001b[0m\u001b[1;34m'type'\u001b[0m\u001b[1;33m]\u001b[0m \u001b[1;33m==\u001b[0m \u001b[1;34m'PRICE'\u001b[0m\u001b[1;33m)\u001b[0m\u001b[1;33m:\u001b[0m\u001b[1;33m\u001b[0m\u001b[0m\n",
      "\u001b[0;32mC:\\Users\\lma\\AppData\\Local\\Continuum\\Anaconda3\\lib\\site-packages\\oandapyV20\\oandapyV20.py\u001b[0m in \u001b[0;36m__stream_request\u001b[0;34m(self, method, url, request_args, headers)\u001b[0m\n\u001b[1;32m    255\u001b[0m                                   headers=headers, stream=True)\n\u001b[1;32m    256\u001b[0m         \u001b[0mlines\u001b[0m \u001b[1;33m=\u001b[0m \u001b[0mresponse\u001b[0m\u001b[1;33m.\u001b[0m\u001b[0miter_lines\u001b[0m\u001b[1;33m(\u001b[0m\u001b[0mITER_LINES_CHUNKSIZE\u001b[0m\u001b[1;33m)\u001b[0m\u001b[1;33m\u001b[0m\u001b[0m\n\u001b[0;32m--> 257\u001b[0;31m         \u001b[1;32mfor\u001b[0m \u001b[0mline\u001b[0m \u001b[1;32min\u001b[0m \u001b[0mlines\u001b[0m\u001b[1;33m:\u001b[0m\u001b[1;33m\u001b[0m\u001b[0m\n\u001b[0m\u001b[1;32m    258\u001b[0m             \u001b[1;32mif\u001b[0m \u001b[0mline\u001b[0m\u001b[1;33m:\u001b[0m\u001b[1;33m\u001b[0m\u001b[0m\n\u001b[1;32m    259\u001b[0m                 \u001b[0mdata\u001b[0m \u001b[1;33m=\u001b[0m \u001b[0mjson\u001b[0m\u001b[1;33m.\u001b[0m\u001b[0mloads\u001b[0m\u001b[1;33m(\u001b[0m\u001b[0mline\u001b[0m\u001b[1;33m.\u001b[0m\u001b[0mdecode\u001b[0m\u001b[1;33m(\u001b[0m\u001b[1;34m\"utf-8\"\u001b[0m\u001b[1;33m)\u001b[0m\u001b[1;33m)\u001b[0m\u001b[1;33m\u001b[0m\u001b[0m\n",
      "\u001b[0;32mC:\\Users\\lma\\AppData\\Local\\Continuum\\Anaconda3\\lib\\site-packages\\requests\\models.py\u001b[0m in \u001b[0;36miter_lines\u001b[0;34m(self, chunk_size, decode_unicode, delimiter)\u001b[0m\n\u001b[1;32m    780\u001b[0m         \u001b[0mpending\u001b[0m \u001b[1;33m=\u001b[0m \u001b[1;32mNone\u001b[0m\u001b[1;33m\u001b[0m\u001b[0m\n\u001b[1;32m    781\u001b[0m \u001b[1;33m\u001b[0m\u001b[0m\n\u001b[0;32m--> 782\u001b[0;31m         \u001b[1;32mfor\u001b[0m \u001b[0mchunk\u001b[0m \u001b[1;32min\u001b[0m \u001b[0mself\u001b[0m\u001b[1;33m.\u001b[0m\u001b[0miter_content\u001b[0m\u001b[1;33m(\u001b[0m\u001b[0mchunk_size\u001b[0m\u001b[1;33m=\u001b[0m\u001b[0mchunk_size\u001b[0m\u001b[1;33m,\u001b[0m \u001b[0mdecode_unicode\u001b[0m\u001b[1;33m=\u001b[0m\u001b[0mdecode_unicode\u001b[0m\u001b[1;33m)\u001b[0m\u001b[1;33m:\u001b[0m\u001b[1;33m\u001b[0m\u001b[0m\n\u001b[0m\u001b[1;32m    783\u001b[0m \u001b[1;33m\u001b[0m\u001b[0m\n\u001b[1;32m    784\u001b[0m             \u001b[1;32mif\u001b[0m \u001b[0mpending\u001b[0m \u001b[1;32mis\u001b[0m \u001b[1;32mnot\u001b[0m \u001b[1;32mNone\u001b[0m\u001b[1;33m:\u001b[0m\u001b[1;33m\u001b[0m\u001b[0m\n",
      "\u001b[0;32mC:\\Users\\lma\\AppData\\Local\\Continuum\\Anaconda3\\lib\\site-packages\\requests\\models.py\u001b[0m in \u001b[0;36mgenerate\u001b[0;34m()\u001b[0m\n\u001b[1;32m    736\u001b[0m             \u001b[1;32mif\u001b[0m \u001b[0mhasattr\u001b[0m\u001b[1;33m(\u001b[0m\u001b[0mself\u001b[0m\u001b[1;33m.\u001b[0m\u001b[0mraw\u001b[0m\u001b[1;33m,\u001b[0m \u001b[1;34m'stream'\u001b[0m\u001b[1;33m)\u001b[0m\u001b[1;33m:\u001b[0m\u001b[1;33m\u001b[0m\u001b[0m\n\u001b[1;32m    737\u001b[0m                 \u001b[1;32mtry\u001b[0m\u001b[1;33m:\u001b[0m\u001b[1;33m\u001b[0m\u001b[0m\n\u001b[0;32m--> 738\u001b[0;31m                     \u001b[1;32mfor\u001b[0m \u001b[0mchunk\u001b[0m \u001b[1;32min\u001b[0m \u001b[0mself\u001b[0m\u001b[1;33m.\u001b[0m\u001b[0mraw\u001b[0m\u001b[1;33m.\u001b[0m\u001b[0mstream\u001b[0m\u001b[1;33m(\u001b[0m\u001b[0mchunk_size\u001b[0m\u001b[1;33m,\u001b[0m \u001b[0mdecode_content\u001b[0m\u001b[1;33m=\u001b[0m\u001b[1;32mTrue\u001b[0m\u001b[1;33m)\u001b[0m\u001b[1;33m:\u001b[0m\u001b[1;33m\u001b[0m\u001b[0m\n\u001b[0m\u001b[1;32m    739\u001b[0m                         \u001b[1;32myield\u001b[0m \u001b[0mchunk\u001b[0m\u001b[1;33m\u001b[0m\u001b[0m\n\u001b[1;32m    740\u001b[0m                 \u001b[1;32mexcept\u001b[0m \u001b[0mProtocolError\u001b[0m \u001b[1;32mas\u001b[0m \u001b[0me\u001b[0m\u001b[1;33m:\u001b[0m\u001b[1;33m\u001b[0m\u001b[0m\n",
      "\u001b[0;32mC:\\Users\\lma\\AppData\\Local\\Continuum\\Anaconda3\\lib\\site-packages\\requests\\packages\\urllib3\\response.py\u001b[0m in \u001b[0;36mstream\u001b[0;34m(self, amt, decode_content)\u001b[0m\n\u001b[1;32m    430\u001b[0m         \"\"\"\n\u001b[1;32m    431\u001b[0m         \u001b[1;32mif\u001b[0m \u001b[0mself\u001b[0m\u001b[1;33m.\u001b[0m\u001b[0mchunked\u001b[0m \u001b[1;32mand\u001b[0m \u001b[0mself\u001b[0m\u001b[1;33m.\u001b[0m\u001b[0msupports_chunked_reads\u001b[0m\u001b[1;33m(\u001b[0m\u001b[1;33m)\u001b[0m\u001b[1;33m:\u001b[0m\u001b[1;33m\u001b[0m\u001b[0m\n\u001b[0;32m--> 432\u001b[0;31m             \u001b[1;32mfor\u001b[0m \u001b[0mline\u001b[0m \u001b[1;32min\u001b[0m \u001b[0mself\u001b[0m\u001b[1;33m.\u001b[0m\u001b[0mread_chunked\u001b[0m\u001b[1;33m(\u001b[0m\u001b[0mamt\u001b[0m\u001b[1;33m,\u001b[0m \u001b[0mdecode_content\u001b[0m\u001b[1;33m=\u001b[0m\u001b[0mdecode_content\u001b[0m\u001b[1;33m)\u001b[0m\u001b[1;33m:\u001b[0m\u001b[1;33m\u001b[0m\u001b[0m\n\u001b[0m\u001b[1;32m    433\u001b[0m                 \u001b[1;32myield\u001b[0m \u001b[0mline\u001b[0m\u001b[1;33m\u001b[0m\u001b[0m\n\u001b[1;32m    434\u001b[0m         \u001b[1;32melse\u001b[0m\u001b[1;33m:\u001b[0m\u001b[1;33m\u001b[0m\u001b[0m\n",
      "\u001b[0;32mC:\\Users\\lma\\AppData\\Local\\Continuum\\Anaconda3\\lib\\site-packages\\requests\\packages\\urllib3\\response.py\u001b[0m in \u001b[0;36mread_chunked\u001b[0;34m(self, amt, decode_content)\u001b[0m\n\u001b[1;32m    592\u001b[0m         \u001b[1;32mwith\u001b[0m \u001b[0mself\u001b[0m\u001b[1;33m.\u001b[0m\u001b[0m_error_catcher\u001b[0m\u001b[1;33m(\u001b[0m\u001b[1;33m)\u001b[0m\u001b[1;33m:\u001b[0m\u001b[1;33m\u001b[0m\u001b[0m\n\u001b[1;32m    593\u001b[0m             \u001b[1;32mwhile\u001b[0m \u001b[1;32mTrue\u001b[0m\u001b[1;33m:\u001b[0m\u001b[1;33m\u001b[0m\u001b[0m\n\u001b[0;32m--> 594\u001b[0;31m                 \u001b[0mself\u001b[0m\u001b[1;33m.\u001b[0m\u001b[0m_update_chunk_length\u001b[0m\u001b[1;33m(\u001b[0m\u001b[1;33m)\u001b[0m\u001b[1;33m\u001b[0m\u001b[0m\n\u001b[0m\u001b[1;32m    595\u001b[0m                 \u001b[1;32mif\u001b[0m \u001b[0mself\u001b[0m\u001b[1;33m.\u001b[0m\u001b[0mchunk_left\u001b[0m \u001b[1;33m==\u001b[0m \u001b[1;36m0\u001b[0m\u001b[1;33m:\u001b[0m\u001b[1;33m\u001b[0m\u001b[0m\n\u001b[1;32m    596\u001b[0m                     \u001b[1;32mbreak\u001b[0m\u001b[1;33m\u001b[0m\u001b[0m\n",
      "\u001b[0;32mC:\\Users\\lma\\AppData\\Local\\Continuum\\Anaconda3\\lib\\site-packages\\requests\\packages\\urllib3\\response.py\u001b[0m in \u001b[0;36m_update_chunk_length\u001b[0;34m(self)\u001b[0m\n\u001b[1;32m    534\u001b[0m         \u001b[1;32mif\u001b[0m \u001b[0mself\u001b[0m\u001b[1;33m.\u001b[0m\u001b[0mchunk_left\u001b[0m \u001b[1;32mis\u001b[0m \u001b[1;32mnot\u001b[0m \u001b[1;32mNone\u001b[0m\u001b[1;33m:\u001b[0m\u001b[1;33m\u001b[0m\u001b[0m\n\u001b[1;32m    535\u001b[0m             \u001b[1;32mreturn\u001b[0m\u001b[1;33m\u001b[0m\u001b[0m\n\u001b[0;32m--> 536\u001b[0;31m         \u001b[0mline\u001b[0m \u001b[1;33m=\u001b[0m \u001b[0mself\u001b[0m\u001b[1;33m.\u001b[0m\u001b[0m_fp\u001b[0m\u001b[1;33m.\u001b[0m\u001b[0mfp\u001b[0m\u001b[1;33m.\u001b[0m\u001b[0mreadline\u001b[0m\u001b[1;33m(\u001b[0m\u001b[1;33m)\u001b[0m\u001b[1;33m\u001b[0m\u001b[0m\n\u001b[0m\u001b[1;32m    537\u001b[0m         \u001b[0mline\u001b[0m \u001b[1;33m=\u001b[0m \u001b[0mline\u001b[0m\u001b[1;33m.\u001b[0m\u001b[0msplit\u001b[0m\u001b[1;33m(\u001b[0m\u001b[1;34mb';'\u001b[0m\u001b[1;33m,\u001b[0m \u001b[1;36m1\u001b[0m\u001b[1;33m)\u001b[0m\u001b[1;33m[\u001b[0m\u001b[1;36m0\u001b[0m\u001b[1;33m]\u001b[0m\u001b[1;33m\u001b[0m\u001b[0m\n\u001b[1;32m    538\u001b[0m         \u001b[1;32mtry\u001b[0m\u001b[1;33m:\u001b[0m\u001b[1;33m\u001b[0m\u001b[0m\n",
      "\u001b[0;32mC:\\Users\\lma\\AppData\\Local\\Continuum\\Anaconda3\\lib\\socket.py\u001b[0m in \u001b[0;36mreadinto\u001b[0;34m(self, b)\u001b[0m\n\u001b[1;32m    573\u001b[0m         \u001b[1;32mwhile\u001b[0m \u001b[1;32mTrue\u001b[0m\u001b[1;33m:\u001b[0m\u001b[1;33m\u001b[0m\u001b[0m\n\u001b[1;32m    574\u001b[0m             \u001b[1;32mtry\u001b[0m\u001b[1;33m:\u001b[0m\u001b[1;33m\u001b[0m\u001b[0m\n\u001b[0;32m--> 575\u001b[0;31m                 \u001b[1;32mreturn\u001b[0m \u001b[0mself\u001b[0m\u001b[1;33m.\u001b[0m\u001b[0m_sock\u001b[0m\u001b[1;33m.\u001b[0m\u001b[0mrecv_into\u001b[0m\u001b[1;33m(\u001b[0m\u001b[0mb\u001b[0m\u001b[1;33m)\u001b[0m\u001b[1;33m\u001b[0m\u001b[0m\n\u001b[0m\u001b[1;32m    576\u001b[0m             \u001b[1;32mexcept\u001b[0m \u001b[0mtimeout\u001b[0m\u001b[1;33m:\u001b[0m\u001b[1;33m\u001b[0m\u001b[0m\n\u001b[1;32m    577\u001b[0m                 \u001b[0mself\u001b[0m\u001b[1;33m.\u001b[0m\u001b[0m_timeout_occurred\u001b[0m \u001b[1;33m=\u001b[0m \u001b[1;32mTrue\u001b[0m\u001b[1;33m\u001b[0m\u001b[0m\n",
      "\u001b[0;32mC:\\Users\\lma\\AppData\\Local\\Continuum\\Anaconda3\\lib\\site-packages\\requests\\packages\\urllib3\\contrib\\pyopenssl.py\u001b[0m in \u001b[0;36mrecv_into\u001b[0;34m(self, *args, **kwargs)\u001b[0m\n\u001b[1;32m    275\u001b[0m     \u001b[1;32mdef\u001b[0m \u001b[0mrecv_into\u001b[0m\u001b[1;33m(\u001b[0m\u001b[0mself\u001b[0m\u001b[1;33m,\u001b[0m \u001b[1;33m*\u001b[0m\u001b[0margs\u001b[0m\u001b[1;33m,\u001b[0m \u001b[1;33m**\u001b[0m\u001b[0mkwargs\u001b[0m\u001b[1;33m)\u001b[0m\u001b[1;33m:\u001b[0m\u001b[1;33m\u001b[0m\u001b[0m\n\u001b[1;32m    276\u001b[0m         \u001b[1;32mtry\u001b[0m\u001b[1;33m:\u001b[0m\u001b[1;33m\u001b[0m\u001b[0m\n\u001b[0;32m--> 277\u001b[0;31m             \u001b[1;32mreturn\u001b[0m \u001b[0mself\u001b[0m\u001b[1;33m.\u001b[0m\u001b[0mconnection\u001b[0m\u001b[1;33m.\u001b[0m\u001b[0mrecv_into\u001b[0m\u001b[1;33m(\u001b[0m\u001b[1;33m*\u001b[0m\u001b[0margs\u001b[0m\u001b[1;33m,\u001b[0m \u001b[1;33m**\u001b[0m\u001b[0mkwargs\u001b[0m\u001b[1;33m)\u001b[0m\u001b[1;33m\u001b[0m\u001b[0m\n\u001b[0m\u001b[1;32m    278\u001b[0m         \u001b[1;32mexcept\u001b[0m \u001b[0mOpenSSL\u001b[0m\u001b[1;33m.\u001b[0m\u001b[0mSSL\u001b[0m\u001b[1;33m.\u001b[0m\u001b[0mSysCallError\u001b[0m \u001b[1;32mas\u001b[0m \u001b[0me\u001b[0m\u001b[1;33m:\u001b[0m\u001b[1;33m\u001b[0m\u001b[0m\n\u001b[1;32m    279\u001b[0m             \u001b[1;32mif\u001b[0m \u001b[0mself\u001b[0m\u001b[1;33m.\u001b[0m\u001b[0msuppress_ragged_eofs\u001b[0m \u001b[1;32mand\u001b[0m \u001b[0me\u001b[0m\u001b[1;33m.\u001b[0m\u001b[0margs\u001b[0m \u001b[1;33m==\u001b[0m \u001b[1;33m(\u001b[0m\u001b[1;33m-\u001b[0m\u001b[1;36m1\u001b[0m\u001b[1;33m,\u001b[0m \u001b[1;34m'Unexpected EOF'\u001b[0m\u001b[1;33m)\u001b[0m\u001b[1;33m:\u001b[0m\u001b[1;33m\u001b[0m\u001b[0m\n",
      "\u001b[0;32mC:\\Users\\lma\\AppData\\Local\\Continuum\\Anaconda3\\lib\\site-packages\\OpenSSL\\SSL.py\u001b[0m in \u001b[0;36mrecv_into\u001b[0;34m(self, buffer, nbytes, flags)\u001b[0m\n\u001b[1;32m   1332\u001b[0m             \u001b[0mresult\u001b[0m \u001b[1;33m=\u001b[0m \u001b[0m_lib\u001b[0m\u001b[1;33m.\u001b[0m\u001b[0mSSL_peek\u001b[0m\u001b[1;33m(\u001b[0m\u001b[0mself\u001b[0m\u001b[1;33m.\u001b[0m\u001b[0m_ssl\u001b[0m\u001b[1;33m,\u001b[0m \u001b[0mbuf\u001b[0m\u001b[1;33m,\u001b[0m \u001b[0mnbytes\u001b[0m\u001b[1;33m)\u001b[0m\u001b[1;33m\u001b[0m\u001b[0m\n\u001b[1;32m   1333\u001b[0m         \u001b[1;32melse\u001b[0m\u001b[1;33m:\u001b[0m\u001b[1;33m\u001b[0m\u001b[0m\n\u001b[0;32m-> 1334\u001b[0;31m             \u001b[0mresult\u001b[0m \u001b[1;33m=\u001b[0m \u001b[0m_lib\u001b[0m\u001b[1;33m.\u001b[0m\u001b[0mSSL_read\u001b[0m\u001b[1;33m(\u001b[0m\u001b[0mself\u001b[0m\u001b[1;33m.\u001b[0m\u001b[0m_ssl\u001b[0m\u001b[1;33m,\u001b[0m \u001b[0mbuf\u001b[0m\u001b[1;33m,\u001b[0m \u001b[0mnbytes\u001b[0m\u001b[1;33m)\u001b[0m\u001b[1;33m\u001b[0m\u001b[0m\n\u001b[0m\u001b[1;32m   1335\u001b[0m         \u001b[0mself\u001b[0m\u001b[1;33m.\u001b[0m\u001b[0m_raise_ssl_error\u001b[0m\u001b[1;33m(\u001b[0m\u001b[0mself\u001b[0m\u001b[1;33m.\u001b[0m\u001b[0m_ssl\u001b[0m\u001b[1;33m,\u001b[0m \u001b[0mresult\u001b[0m\u001b[1;33m)\u001b[0m\u001b[1;33m\u001b[0m\u001b[0m\n\u001b[1;32m   1336\u001b[0m \u001b[1;33m\u001b[0m\u001b[0m\n",
      "\u001b[0;31mKeyboardInterrupt\u001b[0m: "
     ]
    }
   ],
   "source": [
    "import json\n",
    "import oandapyV20\n",
    "from oandapyV20 import API\n",
    "import oandapyV20.endpoints.pricing as pricing\n",
    "accountID = \"101-001-6722193-001\"\n",
    "api = API(access_token=\"04e86c6b0c7bfe71bf7f98d2b1a6496d-dee13f6f97c4508b949c42deaf95925b\")\n",
    "params ={\"instruments\": \"EUR_USD,EUR_JPY\"}\n",
    "r = pricing.PricingStream(accountID,params=params)\n",
    "rv = api.request(r)\n",
    "\n",
    "for tick in rv:\n",
    "    #print(json.dumps(ticks,indent=4),\",\")\n",
    "    if(tick['type'] == 'PRICE'):\n",
    "        print(tick) "
   ]
  },
  {
   "cell_type": "code",
   "execution_count": 8,
   "metadata": {
    "collapsed": false,
    "scrolled": true
   },
   "outputs": [
    {
     "data": {
      "text/html": [
       "<div>\n",
       "<table border=\"1\" class=\"dataframe\">\n",
       "  <thead>\n",
       "    <tr style=\"text-align: right;\">\n",
       "      <th></th>\n",
       "      <th>asks</th>\n",
       "      <th>bids</th>\n",
       "      <th>closeoutAsk</th>\n",
       "      <th>closeoutBid</th>\n",
       "      <th>instrument</th>\n",
       "      <th>quoteHomeConversionFactors</th>\n",
       "      <th>status</th>\n",
       "      <th>time</th>\n",
       "      <th>tradeable</th>\n",
       "      <th>type</th>\n",
       "      <th>unitsAvailable</th>\n",
       "    </tr>\n",
       "  </thead>\n",
       "  <tbody>\n",
       "    <tr>\n",
       "      <th>0</th>\n",
       "      <td>[{'price': '1.19457', 'liquidity': 10000000}]</td>\n",
       "      <td>[{'price': '1.19444', 'liquidity': 10000000}]</td>\n",
       "      <td>1.19472</td>\n",
       "      <td>1.19429</td>\n",
       "      <td>EUR_USD</td>\n",
       "      <td>{'positiveUnits': '1.00000000', 'negativeUnits...</td>\n",
       "      <td>tradeable</td>\n",
       "      <td>2017-09-22T20:21:56.235007019Z</td>\n",
       "      <td>True</td>\n",
       "      <td>PRICE</td>\n",
       "      <td>{'openOnly': {'short': '4183513', 'long': '418...</td>\n",
       "    </tr>\n",
       "    <tr>\n",
       "      <th>1</th>\n",
       "      <td>[{'price': '133.878', 'liquidity': 10000000}]</td>\n",
       "      <td>[{'price': '133.855', 'liquidity': 10000000}]</td>\n",
       "      <td>133.878</td>\n",
       "      <td>133.855</td>\n",
       "      <td>EUR_JPY</td>\n",
       "      <td>{'positiveUnits': '0.00892284', 'negativeUnits...</td>\n",
       "      <td>tradeable</td>\n",
       "      <td>2017-09-22T20:21:48.296013821Z</td>\n",
       "      <td>True</td>\n",
       "      <td>PRICE</td>\n",
       "      <td>{'openOnly': {'short': '2091886', 'long': '209...</td>\n",
       "    </tr>\n",
       "  </tbody>\n",
       "</table>\n",
       "</div>"
      ],
      "text/plain": [
       "                                            asks  \\\n",
       "0  [{'price': '1.19457', 'liquidity': 10000000}]   \n",
       "1  [{'price': '133.878', 'liquidity': 10000000}]   \n",
       "\n",
       "                                            bids closeoutAsk closeoutBid  \\\n",
       "0  [{'price': '1.19444', 'liquidity': 10000000}]     1.19472     1.19429   \n",
       "1  [{'price': '133.855', 'liquidity': 10000000}]     133.878     133.855   \n",
       "\n",
       "  instrument                         quoteHomeConversionFactors     status  \\\n",
       "0    EUR_USD  {'positiveUnits': '1.00000000', 'negativeUnits...  tradeable   \n",
       "1    EUR_JPY  {'positiveUnits': '0.00892284', 'negativeUnits...  tradeable   \n",
       "\n",
       "                             time tradeable   type  \\\n",
       "0  2017-09-22T20:21:56.235007019Z      True  PRICE   \n",
       "1  2017-09-22T20:21:48.296013821Z      True  PRICE   \n",
       "\n",
       "                                      unitsAvailable  \n",
       "0  {'openOnly': {'short': '4183513', 'long': '418...  \n",
       "1  {'openOnly': {'short': '2091886', 'long': '209...  "
      ]
     },
     "execution_count": 8,
     "metadata": {},
     "output_type": "execute_result"
    }
   ],
   "source": [
    "import oandapyV20\n",
    "import pandas as pd\n",
    "from oandapyV20 import API\n",
    "import oandapyV20.endpoints.pricing as pricing\n",
    "accountID = \"101-001-6722193-001\"\n",
    "api = API(access_token=\"04e86c6b0c7bfe71bf7f98d2b1a6496d-dee13f6f97c4508b949c42deaf95925b\")\n",
    "params ={\"instruments\": \"EUR_USD,EUR_JPY\"}\n",
    "r = pricing.PricingInfo(accountID,params=params)\n",
    "rv = api.request(r)\n",
    "pd.DataFrame(rv['prices'])"
   ]
  },
  {
   "cell_type": "code",
   "execution_count": 23,
   "metadata": {
    "collapsed": false
   },
   "outputs": [
    {
     "data": {
      "text/html": [
       "<div>\n",
       "<style>\n",
       "    .dataframe thead tr:only-child th {\n",
       "        text-align: right;\n",
       "    }\n",
       "\n",
       "    .dataframe thead th {\n",
       "        text-align: left;\n",
       "    }\n",
       "\n",
       "    .dataframe tbody tr th {\n",
       "        vertical-align: top;\n",
       "    }\n",
       "</style>\n",
       "<table border=\"1\" class=\"dataframe\">\n",
       "  <thead>\n",
       "    <tr style=\"text-align: right;\">\n",
       "      <th></th>\n",
       "      <th>EUR_USD</th>\n",
       "    </tr>\n",
       "  </thead>\n",
       "  <tbody>\n",
       "    <tr>\n",
       "      <th>2017-09-25 17:57:40</th>\n",
       "      <td>1.18</td>\n",
       "    </tr>\n",
       "  </tbody>\n",
       "</table>\n",
       "</div>"
      ],
      "text/plain": [
       "                     EUR_USD\n",
       "2017-09-25 17:57:40     1.18"
      ]
     },
     "execution_count": 23,
     "metadata": {},
     "output_type": "execute_result"
    }
   ],
   "source": [
    "import pandas as pd\n",
    "intervals = '10s'\n",
    "prices = pd.DataFrame()\n",
    "time = pd.to_datetime('2017-09-25T17:57:41.646378854Z')\n",
    "instrument = 'EUR_USD'\n",
    "midprice = 1.18\n",
    "prices.loc[time,instrument] = midprice\n",
    "#prices.index = pd.to_datetime(prices.index, unit='s')\n",
    "prices = prices.resample(intervals).last()\n",
    "prices"
   ]
  }
 ],
 "metadata": {
  "anaconda-cloud": {},
  "kernelspec": {
   "display_name": "Python [conda root]",
   "language": "python",
   "name": "conda-root-py"
  },
  "language_info": {
   "codemirror_mode": {
    "name": "ipython",
    "version": 3
   },
   "file_extension": ".py",
   "mimetype": "text/x-python",
   "name": "python",
   "nbconvert_exporter": "python",
   "pygments_lexer": "ipython3",
   "version": "3.5.2"
  }
 },
 "nbformat": 4,
 "nbformat_minor": 1
}
